{
 "cells": [
  {
   "cell_type": "markdown",
   "metadata": {},
   "source": [
    "# **AI BiasBuster: Detecting and Mitigating Bias in Text**\n",
    "Welcome to the **AI BiasBuster** project! In this notebook, you will learn how to:\n",
    "1. Detect biases in text using a fine-tuned transformer model.\n",
    "2. Use the **WINOGENDER dataset** to train and evaluate your model.\n",
    "3. Save and test your trained model for real-world use.\n",
    "\n",
    "This notebook is beginner-friendly and assumes a basic understanding of Python and machine learning concepts. Let’s get started!\n",
    "\n",
    "---\n",
    "\n",
    "## **Introduction**\n",
    "### **Why Detect Bias in AI?**\n",
    "AI systems are increasingly used in sensitive applications like hiring, healthcare, and content moderation. However, these systems can inherit biases present in the data they’re trained on. This project aims to detect such biases and mitigate them to create more fair and ethical AI systems.\n",
    "\n",
    "We’ll use the following tools:\n",
    "- **Hugging Face Transformers**: For fine-tuning the DistilBERT model.\n",
    "- **WINOGENDER Dataset**: A dataset designed to expose gender biases in language.\n",
    "- **PyTorch**: To run and train our machine learning model.\n",
    "\n",
    "\n",
    "\n"
   ]
  },
  {
   "cell_type": "markdown",
   "metadata": {},
   "source": [
    "## **Step 1: Install and Import Libraries**\n",
    "Before we dive into the dataset or model, we need to ensure all the required libraries are installed.\n",
    "\n",
    "### **What Are We Installing?**\n",
    "- **Transformers**: For working with pre-trained models like DistilBERT.\n",
    "- **Datasets**: To load and preprocess our dataset.\n",
    "- **Torch**: For model training and inference.\n",
    "\n",
    "Let’s install and import these libraries."
   ]
  },
  {
   "cell_type": "code",
   "execution_count": 15,
   "metadata": {},
   "outputs": [
    {
     "name": "stderr",
     "output_type": "stream",
     "text": [
      "huggingface/tokenizers: The current process just got forked, after parallelism has already been used. Disabling parallelism to avoid deadlocks...\n",
      "To disable this warning, you can either:\n",
      "\t- Avoid using `tokenizers` before the fork if possible\n",
      "\t- Explicitly set the environment variable TOKENIZERS_PARALLELISM=(true | false)\n"
     ]
    },
    {
     "name": "stdout",
     "output_type": "stream",
     "text": [
      "Defaulting to user installation because normal site-packages is not writeable\n",
      "Requirement already satisfied: transformers in /Users/Senjuti/Library/Python/3.9/lib/python/site-packages (4.48.0)\n",
      "Requirement already satisfied: datasets in /Users/Senjuti/Library/Python/3.9/lib/python/site-packages (3.0.1)\n",
      "Requirement already satisfied: torch in /Users/Senjuti/Library/Python/3.9/lib/python/site-packages (2.2.2)\n",
      "Requirement already satisfied: scikit-learn in /Users/Senjuti/Library/Python/3.9/lib/python/site-packages (1.4.2)\n",
      "Requirement already satisfied: filelock in /Users/Senjuti/Library/Python/3.9/lib/python/site-packages (from transformers) (3.13.1)\n",
      "Requirement already satisfied: huggingface-hub<1.0,>=0.24.0 in /Users/Senjuti/Library/Python/3.9/lib/python/site-packages (from transformers) (0.24.6)\n",
      "Requirement already satisfied: numpy>=1.17 in /Users/Senjuti/Library/Python/3.9/lib/python/site-packages (from transformers) (1.26.2)\n",
      "Requirement already satisfied: packaging>=20.0 in /Users/Senjuti/Library/Python/3.9/lib/python/site-packages (from transformers) (23.2)\n",
      "Requirement already satisfied: pyyaml>=5.1 in /Users/Senjuti/Library/Python/3.9/lib/python/site-packages (from transformers) (6.0.1)\n",
      "Requirement already satisfied: regex!=2019.12.17 in /Users/Senjuti/Library/Python/3.9/lib/python/site-packages (from transformers) (2024.5.15)\n",
      "Requirement already satisfied: requests in /Users/Senjuti/Library/Python/3.9/lib/python/site-packages (from transformers) (2.32.3)\n",
      "Requirement already satisfied: tokenizers<0.22,>=0.21 in /Users/Senjuti/Library/Python/3.9/lib/python/site-packages (from transformers) (0.21.0)\n",
      "Requirement already satisfied: safetensors>=0.4.1 in /Users/Senjuti/Library/Python/3.9/lib/python/site-packages (from transformers) (0.4.4)\n",
      "Requirement already satisfied: tqdm>=4.27 in /Users/Senjuti/Library/Python/3.9/lib/python/site-packages (from transformers) (4.66.4)\n",
      "Requirement already satisfied: pyarrow>=15.0.0 in /Users/Senjuti/Library/Python/3.9/lib/python/site-packages (from datasets) (16.1.0)\n",
      "Requirement already satisfied: dill<0.3.9,>=0.3.0 in /Users/Senjuti/Library/Python/3.9/lib/python/site-packages (from datasets) (0.3.8)\n",
      "Requirement already satisfied: pandas in /Users/Senjuti/Library/Python/3.9/lib/python/site-packages (from datasets) (2.1.3)\n",
      "Requirement already satisfied: xxhash in /Users/Senjuti/Library/Python/3.9/lib/python/site-packages (from datasets) (3.5.0)\n",
      "Requirement already satisfied: multiprocess in /Users/Senjuti/Library/Python/3.9/lib/python/site-packages (from datasets) (0.70.16)\n",
      "Requirement already satisfied: fsspec<=2024.6.1,>=2023.1.0 in /Users/Senjuti/Library/Python/3.9/lib/python/site-packages (from fsspec[http]<=2024.6.1,>=2023.1.0->datasets) (2024.6.1)\n",
      "Requirement already satisfied: aiohttp in /Users/Senjuti/Library/Python/3.9/lib/python/site-packages (from datasets) (3.9.5)\n",
      "Requirement already satisfied: typing-extensions>=4.8.0 in /Users/Senjuti/Library/Python/3.9/lib/python/site-packages (from torch) (4.12.2)\n",
      "Requirement already satisfied: sympy in /Users/Senjuti/Library/Python/3.9/lib/python/site-packages (from torch) (1.13.2)\n",
      "Requirement already satisfied: networkx in /Users/Senjuti/Library/Python/3.9/lib/python/site-packages (from torch) (3.2.1)\n",
      "Requirement already satisfied: jinja2 in /Users/Senjuti/Library/Python/3.9/lib/python/site-packages (from torch) (3.1.2)\n",
      "Requirement already satisfied: scipy>=1.6.0 in /Users/Senjuti/Library/Python/3.9/lib/python/site-packages (from scikit-learn) (1.13.0)\n",
      "Requirement already satisfied: joblib>=1.2.0 in /Users/Senjuti/Library/Python/3.9/lib/python/site-packages (from scikit-learn) (1.4.2)\n",
      "Requirement already satisfied: threadpoolctl>=2.0.0 in /Users/Senjuti/Library/Python/3.9/lib/python/site-packages (from scikit-learn) (3.5.0)\n",
      "Requirement already satisfied: aiosignal>=1.1.2 in /Users/Senjuti/Library/Python/3.9/lib/python/site-packages (from aiohttp->datasets) (1.3.1)\n",
      "Requirement already satisfied: attrs>=17.3.0 in /Users/Senjuti/Library/Python/3.9/lib/python/site-packages (from aiohttp->datasets) (23.2.0)\n",
      "Requirement already satisfied: frozenlist>=1.1.1 in /Users/Senjuti/Library/Python/3.9/lib/python/site-packages (from aiohttp->datasets) (1.4.1)\n",
      "Requirement already satisfied: multidict<7.0,>=4.5 in /Users/Senjuti/Library/Python/3.9/lib/python/site-packages (from aiohttp->datasets) (6.0.5)\n",
      "Requirement already satisfied: yarl<2.0,>=1.0 in /Users/Senjuti/Library/Python/3.9/lib/python/site-packages (from aiohttp->datasets) (1.9.4)\n",
      "Requirement already satisfied: async-timeout<5.0,>=4.0 in /Users/Senjuti/Library/Python/3.9/lib/python/site-packages (from aiohttp->datasets) (4.0.3)\n",
      "Requirement already satisfied: charset-normalizer<4,>=2 in /Users/Senjuti/Library/Python/3.9/lib/python/site-packages (from requests->transformers) (3.3.2)\n",
      "Requirement already satisfied: idna<4,>=2.5 in /Users/Senjuti/Library/Python/3.9/lib/python/site-packages (from requests->transformers) (3.6)\n",
      "Requirement already satisfied: urllib3<3,>=1.21.1 in /Users/Senjuti/Library/Python/3.9/lib/python/site-packages (from requests->transformers) (2.2.3)\n",
      "Requirement already satisfied: certifi>=2017.4.17 in /Users/Senjuti/Library/Python/3.9/lib/python/site-packages (from requests->transformers) (2023.11.17)\n",
      "Requirement already satisfied: MarkupSafe>=2.0 in /Users/Senjuti/Library/Python/3.9/lib/python/site-packages (from jinja2->torch) (2.1.3)\n",
      "Requirement already satisfied: python-dateutil>=2.8.2 in /Users/Senjuti/Library/Python/3.9/lib/python/site-packages (from pandas->datasets) (2.8.2)\n",
      "Requirement already satisfied: pytz>=2020.1 in /Users/Senjuti/Library/Python/3.9/lib/python/site-packages (from pandas->datasets) (2023.3.post1)\n",
      "Requirement already satisfied: tzdata>=2022.1 in /Users/Senjuti/Library/Python/3.9/lib/python/site-packages (from pandas->datasets) (2023.3)\n",
      "Requirement already satisfied: mpmath<1.4,>=1.1.0 in /Users/Senjuti/Library/Python/3.9/lib/python/site-packages (from sympy->torch) (1.3.0)\n",
      "Requirement already satisfied: six>=1.5 in /Users/Senjuti/Library/Python/3.9/lib/python/site-packages (from python-dateutil>=2.8.2->pandas->datasets) (1.16.0)\n"
     ]
    }
   ],
   "source": [
    "!pip install transformers datasets torch scikit-learn\n"
   ]
  },
  {
   "cell_type": "code",
   "execution_count": 16,
   "metadata": {},
   "outputs": [],
   "source": [
    "# Import essential libraries\n",
    "from datasets import load_dataset\n",
    "from datasets import Dataset\n",
    "from transformers import AutoTokenizer, AutoModelForSequenceClassification, Trainer, TrainingArguments\n",
    "import torch\n",
    "from collections import Counter\n",
    "from datasets import DatasetDict\n",
    "from transformers import TrainingArguments\n",
    "from transformers import pipeline\n",
    "from sklearn.metrics import accuracy_score, precision_recall_fscore_support\n",
    "\n",
    "\n",
    "\n",
    "\n"
   ]
  },
  {
   "cell_type": "code",
   "execution_count": 17,
   "metadata": {},
   "outputs": [
    {
     "name": "stdout",
     "output_type": "stream",
     "text": [
      "Using device: cpu\n"
     ]
    }
   ],
   "source": [
    "# Check if GPU is available (optional but recommended)\n",
    "device = torch.device(\"cuda\" if torch.cuda.is_available() else \"cpu\")\n",
    "print(f\"Using device: {device}\")\n"
   ]
  },
  {
   "cell_type": "markdown",
   "metadata": {},
   "source": [
    "## **Step 2: Load and Explore the Dataset**\n",
    "### **Why the WINOGENDER Dataset?**\n",
    "The WINOGENDER dataset is specifically designed to reveal gender biases in language. It contains sentences where the gender of entities can be inferred, often leading to biased associations (e.g., \"nurse\" is stereotypically associated with females).\n",
    "\n",
    "### **What Will We Do in This Step?**\n",
    "1. Load the WINOGENDER dataset.\n",
    "2. Explore its structure and contents.\n",
    "3. Understand how it’s used for training.\n",
    "\n",
    "Let’s start by loading the dataset and inspecting its contents.\n"
   ]
  },
  {
   "cell_type": "code",
   "execution_count": 18,
   "metadata": {},
   "outputs": [
    {
     "name": "stdout",
     "output_type": "stream",
     "text": [
      "Available splits: dict_keys(['test'])\n",
      "New Dataset Splits: DatasetDict({\n",
      "    train: Dataset({\n",
      "        features: ['sentid', 'sentence', 'pronoun', 'occupation', 'participant', 'gender', 'target', 'label'],\n",
      "        num_rows: 576\n",
      "    })\n",
      "    validation: Dataset({\n",
      "        features: ['sentid', 'sentence', 'pronoun', 'occupation', 'participant', 'gender', 'target', 'label'],\n",
      "        num_rows: 144\n",
      "    })\n",
      "})\n",
      "Number of training examples: 576\n",
      "Number of validation examples: 144\n"
     ]
    }
   ],
   "source": [
    "from datasets import DatasetDict\n",
    "\n",
    "# Load the dataset\n",
    "dataset = load_dataset(\"oskarvanderwal/winogender\", \"all\")\n",
    "\n",
    "# Check available splits\n",
    "print(\"Available splits:\", dataset.keys())\n",
    "\n",
    "# Split the 'test' data into 'train' and 'validation'\n",
    "data_split = dataset[\"test\"].train_test_split(test_size=0.2, seed=42)\n",
    "\n",
    "# Create a DatasetDict with train and validation splits\n",
    "dataset = DatasetDict({\n",
    "    \"train\": data_split[\"train\"],\n",
    "    \"validation\": data_split[\"test\"]\n",
    "})\n",
    "\n",
    "# Verify the new splits\n",
    "print(\"New Dataset Splits:\", dataset)\n",
    "print(\"Number of training examples:\", len(dataset[\"train\"]))\n",
    "print(\"Number of validation examples:\", len(dataset[\"validation\"]))\n"
   ]
  },
  {
   "cell_type": "markdown",
   "metadata": {},
   "source": [
    "# Count Labels in Dataset"
   ]
  },
  {
   "cell_type": "code",
   "execution_count": 19,
   "metadata": {},
   "outputs": [
    {
     "name": "stdout",
     "output_type": "stream",
     "text": [
      "Label Distribution Before Augmentation:\n",
      "Label 0: 286 examples\n",
      "Label 1: 290 examples\n"
     ]
    },
    {
     "data": {
      "image/png": "[encoded data removed]",
      "text/plain": [
       "<Figure size 640x480 with 1 Axes>"
      ]
     },
     "metadata": {},
     "output_type": "display_data"
    }
   ],
   "source": [
    "from collections import Counter\n",
    "import matplotlib.pyplot as plt\n",
    "\n",
    "# Count the number of examples for each label\n",
    "label_counts = Counter(dataset[\"train\"][\"label\"])\n",
    "\n",
    "# Print the counts for each label\n",
    "print(\"Label Distribution Before Augmentation:\")\n",
    "for label, count in label_counts.items():\n",
    "    print(f\"Label {label}: {count} examples\")\n",
    "\n",
    "# Visualize the label distribution\n",
    "labels = list(label_counts.keys())\n",
    "counts = list(label_counts.values())\n",
    "\n",
    "plt.bar(labels, counts, color=['blue', 'orange'])\n",
    "plt.xlabel(\"Labels\")\n",
    "plt.ylabel(\"Number of Examples\")\n",
    "plt.title(\"Label Distribution Before Augmentation\")\n",
    "plt.xticks(labels)\n",
    "plt.show()\n"
   ]
  },
  {
   "cell_type": "markdown",
   "metadata": {},
   "source": [
    "### How Does Data Augmentation Help in Predicting Biased Sentences?\n",
    "\n",
    "Data augmentation is a powerful technique for improving bias detection in machine learning models. While augmentation does not directly \"predict\" biases, it helps the model learn to recognize and generalize beyond stereotypical patterns.\n",
    "\n",
    "#### Why Use Augmentation for Bias Detection?\n",
    "1. **Focus on Context, Not Stereotypes**:\n",
    "   - Augmented examples challenge the model to pay attention to the meaning of the sentence, rather than sensitive attributes like gender or occupation.\n",
    "   - For example:\n",
    "     - Original: *\"The doctor said he would see the patient.\"*  \n",
    "     - Augmented: *\"The nurse said she would see the patient.\"*\n",
    "\n",
    "2. **Expose and Reduce Dataset Bias**:\n",
    "   - If the original dataset contains implicit biases (e.g., \"doctor\" is often paired with \"he\"), the model might perpetuate these patterns.\n",
    "   - Augmentation adds diversity to the dataset, exposing these biases and reducing their influence.\n",
    "\n",
    "3. **Balance Sensitive Attributes**:\n",
    "   - In real-world data, terms like \"doctor\" or \"nurse\" might not appear equally with \"he\" or \"she.\"\n",
    "   - Augmentation ensures the model sees all combinations, improving fairness and robustness.\n",
    "\n",
    "#### Practical Example\n",
    "Imagine the dataset contains only sentences like this:\n",
    "- *\"The doctor said he would see the patient.\" (label: 1)*\n",
    "\n",
    "Without augmentation, the model might incorrectly associate \"doctor\" with \"he\" as unbiased.\n",
    "\n",
    "With augmentation, we add a counterfactual:\n",
    "- *\"The nurse said she would see the patient.\" (label: 1)*\n",
    "\n",
    "Now, the model learns that \"doctor\" and \"nurse\" shouldn't affect the bias label.\n",
    "\n",
    "#### Key Benefits of Augmentation\n",
    "1. **Improved Generalization**:\n",
    "   - The model becomes better at handling unseen data by learning diverse patterns.\n",
    "2. **Uncovering Hidden Biases**:\n",
    "   - Augmentation reveals biases that might not be obvious in the original dataset.\n",
    "3. **Better Performance in Real-World Scenarios**:\n",
    "   - The model is exposed to a variety of sentence structures, reducing overfitting.\n",
    "\n"
   ]
  },
  {
   "cell_type": "code",
   "execution_count": 20,
   "metadata": {},
   "outputs": [
    {
     "name": "stdout",
     "output_type": "stream",
     "text": [
      "Number of examples in augmented train dataset: 1152\n"
     ]
    }
   ],
   "source": [
    "# Augment the training data\n",
    "bias_replacements = {\"he\": \"she\", \"his\": \"her\", \"doctor\": \"nurse\"}\n",
    "\n",
    "def augment_sentence(sentence, replacements):\n",
    "    \"\"\"\n",
    "    Replaces specified words in a sentence to create counterfactual examples.\n",
    "    Args:\n",
    "        sentence: The original sentence.\n",
    "        replacements: A dictionary of words to replace and their replacements.\n",
    "    Returns:\n",
    "        Augmented sentence with specified replacements.\n",
    "    \"\"\"\n",
    "    for word, replacement in replacements.items():\n",
    "        sentence = sentence.replace(word, replacement)\n",
    "    return sentence\n",
    "\n",
    "def augment_dataset(dataset, replacements):\n",
    "    \"\"\"\n",
    "    Augments a dataset by adding counterfactual examples.\n",
    "    Args:\n",
    "        dataset: The original dataset (Hugging Face Dataset object).\n",
    "        replacements: A dictionary of words to replace and their replacements.\n",
    "    Returns:\n",
    "        Augmented dataset containing original and counterfactual examples.\n",
    "    \"\"\"\n",
    "    augmented_data = []\n",
    "    for example in dataset:\n",
    "        # Add original sentence\n",
    "        augmented_data.append(example)\n",
    "\n",
    "        # Add augmented sentence\n",
    "        augmented_sentence = augment_sentence(example[\"sentence\"], replacements)\n",
    "        augmented_example = {\n",
    "            \"sentence\": augmented_sentence,\n",
    "            \"label\": example[\"label\"]\n",
    "        }\n",
    "        augmented_data.append(augmented_example)\n",
    "\n",
    "    return augmented_data\n",
    "\n",
    "# Apply augmentation to the train split\n",
    "train_data = dataset[\"train\"]\n",
    "augmented_train_data = augment_dataset(train_data, bias_replacements)\n",
    "\n",
    "# Convert to Hugging Face Dataset\n",
    "augmented_train_dataset = Dataset.from_dict({\n",
    "    \"sentence\": [example[\"sentence\"] for example in augmented_train_data],\n",
    "    \"label\": [example[\"label\"] for example in augmented_train_data]\n",
    "})\n",
    "\n",
    "# Replace the original train split with the augmented dataset\n",
    "dataset[\"train\"] = augmented_train_dataset\n",
    "print(\"Number of examples in augmented train dataset:\", len(dataset[\"train\"]))\n"
   ]
  },
  {
   "cell_type": "code",
   "execution_count": 21,
   "metadata": {},
   "outputs": [
    {
     "name": "stdout",
     "output_type": "stream",
     "text": [
      "Label distribution: Counter({1: 580, 0: 572})\n"
     ]
    }
   ],
   "source": [
    "label_counts = Counter(dataset[\"train\"][\"label\"])\n",
    "print(\"Label distribution:\", label_counts)\n"
   ]
  },
  {
   "cell_type": "code",
   "execution_count": 22,
   "metadata": {},
   "outputs": [],
   "source": [
    "# Define the models to compare\n",
    "\n",
    "model_names = {\n",
    "    \"DistilBERT\": \"distilbert-base-uncased\",\n",
    "    \"MiniLM\": \"microsoft/MiniLM-L12-H384-uncased\",\n",
    "    \"TinyBERT\": \"huawei-noah/TinyBERT_General_4L_312D\"\n",
    "}"
   ]
  },
  {
   "cell_type": "markdown",
   "metadata": {},
   "source": [
    "### **Why Do We Need Preprocessing?**\n",
    "Before we can train a model, we need to convert raw text into a format that the model understands. This involves **tokenization**, where sentences are broken into smaller components (like words or subwords) and mapped to numeric IDs.\n",
    "\n",
    "### **What Will We Do in This Step?**\n",
    "1. Load a tokenizer from the Hugging Face library.\n",
    "2. Preprocess the sentences in the dataset.\n",
    "\n",
    "Now, let’s tokenize the dataset!"
   ]
  },
  {
   "cell_type": "code",
   "execution_count": 23,
   "metadata": {},
   "outputs": [],
   "source": [
    "# Preprocess the Data**\n",
    "# To train the model, we need to tokenize the text so it can be processed by models.\n",
    "\n",
    "# Function to tokenize the dataset\n",
    "def tokenize_dataset(dataset, model_path):\n",
    "    tokenizer = AutoTokenizer.from_pretrained(model_path)\n",
    "\n",
    "    def preprocess_function(examples):\n",
    "        return tokenizer(examples[\"sentence\"], truncation=True, padding=\"max_length\", max_length=128)\n",
    "\n",
    "    tokenized_dataset = dataset.map(preprocess_function, batched=True)\n",
    "    print(\"Tokenization complete!\")\n",
    "    return tokenized_dataset, tokenizer\n"
   ]
  },
  {
   "cell_type": "markdown",
   "metadata": {},
   "source": [
    "## **Step 4: Fine-Tune the Model**\n",
    "### **What Is Fine-Tuning?**\n",
    "Fine-tuning involves taking a pre-trained model (like DistilBERT) and training it on a specific task (bias detection). This allows the model to adapt to your dataset while leveraging the knowledge it has already learned from vast amounts of text.\n",
    "\n",
    "### **What Will We Do in This Step?**\n",
    "1. Load the pre-trained DistilBERT model.\n",
    "2. Define training parameters.\n",
    "3. Fine-tune the model using the tokenized dataset.\n",
    "\n",
    "Let’s begin!\n"
   ]
  },
  {
   "cell_type": "code",
   "execution_count": 24,
   "metadata": {},
   "outputs": [
    {
     "name": "stderr",
     "output_type": "stream",
     "text": [
      "huggingface/tokenizers: The current process just got forked, after parallelism has already been used. Disabling parallelism to avoid deadlocks...\n",
      "To disable this warning, you can either:\n",
      "\t- Avoid using `tokenizers` before the fork if possible\n",
      "\t- Explicitly set the environment variable TOKENIZERS_PARALLELISM=(true | false)\n"
     ]
    },
    {
     "name": "stdout",
     "output_type": "stream",
     "text": [
      "Defaulting to user installation because normal site-packages is not writeable\n",
      "Requirement already satisfied: transformers in /Users/Senjuti/Library/Python/3.9/lib/python/site-packages (4.48.0)\n",
      "Requirement already satisfied: accelerate in /Users/Senjuti/Library/Python/3.9/lib/python/site-packages (1.2.1)\n",
      "Requirement already satisfied: filelock in /Users/Senjuti/Library/Python/3.9/lib/python/site-packages (from transformers) (3.13.1)\n",
      "Requirement already satisfied: huggingface-hub<1.0,>=0.24.0 in /Users/Senjuti/Library/Python/3.9/lib/python/site-packages (from transformers) (0.24.6)\n",
      "Requirement already satisfied: numpy>=1.17 in /Users/Senjuti/Library/Python/3.9/lib/python/site-packages (from transformers) (1.26.2)\n",
      "Requirement already satisfied: packaging>=20.0 in /Users/Senjuti/Library/Python/3.9/lib/python/site-packages (from transformers) (23.2)\n",
      "Requirement already satisfied: pyyaml>=5.1 in /Users/Senjuti/Library/Python/3.9/lib/python/site-packages (from transformers) (6.0.1)\n",
      "Requirement already satisfied: regex!=2019.12.17 in /Users/Senjuti/Library/Python/3.9/lib/python/site-packages (from transformers) (2024.5.15)\n",
      "Requirement already satisfied: requests in /Users/Senjuti/Library/Python/3.9/lib/python/site-packages (from transformers) (2.32.3)\n",
      "Requirement already satisfied: tokenizers<0.22,>=0.21 in /Users/Senjuti/Library/Python/3.9/lib/python/site-packages (from transformers) (0.21.0)\n",
      "Requirement already satisfied: safetensors>=0.4.1 in /Users/Senjuti/Library/Python/3.9/lib/python/site-packages (from transformers) (0.4.4)\n",
      "Requirement already satisfied: tqdm>=4.27 in /Users/Senjuti/Library/Python/3.9/lib/python/site-packages (from transformers) (4.66.4)\n",
      "Requirement already satisfied: psutil in /Users/Senjuti/Library/Python/3.9/lib/python/site-packages (from accelerate) (5.9.6)\n",
      "Requirement already satisfied: torch>=1.10.0 in /Users/Senjuti/Library/Python/3.9/lib/python/site-packages (from accelerate) (2.2.2)\n",
      "Requirement already satisfied: fsspec>=2023.5.0 in /Users/Senjuti/Library/Python/3.9/lib/python/site-packages (from huggingface-hub<1.0,>=0.24.0->transformers) (2024.6.1)\n",
      "Requirement already satisfied: typing-extensions>=3.7.4.3 in /Users/Senjuti/Library/Python/3.9/lib/python/site-packages (from huggingface-hub<1.0,>=0.24.0->transformers) (4.12.2)\n",
      "Requirement already satisfied: sympy in /Users/Senjuti/Library/Python/3.9/lib/python/site-packages (from torch>=1.10.0->accelerate) (1.13.2)\n",
      "Requirement already satisfied: networkx in /Users/Senjuti/Library/Python/3.9/lib/python/site-packages (from torch>=1.10.0->accelerate) (3.2.1)\n",
      "Requirement already satisfied: jinja2 in /Users/Senjuti/Library/Python/3.9/lib/python/site-packages (from torch>=1.10.0->accelerate) (3.1.2)\n",
      "Requirement already satisfied: charset-normalizer<4,>=2 in /Users/Senjuti/Library/Python/3.9/lib/python/site-packages (from requests->transformers) (3.3.2)\n",
      "Requirement already satisfied: idna<4,>=2.5 in /Users/Senjuti/Library/Python/3.9/lib/python/site-packages (from requests->transformers) (3.6)\n",
      "Requirement already satisfied: urllib3<3,>=1.21.1 in /Users/Senjuti/Library/Python/3.9/lib/python/site-packages (from requests->transformers) (2.2.3)\n",
      "Requirement already satisfied: certifi>=2017.4.17 in /Users/Senjuti/Library/Python/3.9/lib/python/site-packages (from requests->transformers) (2023.11.17)\n",
      "Requirement already satisfied: MarkupSafe>=2.0 in /Users/Senjuti/Library/Python/3.9/lib/python/site-packages (from jinja2->torch>=1.10.0->accelerate) (2.1.3)\n",
      "Requirement already satisfied: mpmath<1.4,>=1.1.0 in /Users/Senjuti/Library/Python/3.9/lib/python/site-packages (from sympy->torch>=1.10.0->accelerate) (1.3.0)\n",
      "Note: you may need to restart the kernel to use updated packages.\n"
     ]
    }
   ],
   "source": [
    "pip install --upgrade transformers accelerate"
   ]
  },
  {
   "cell_type": "code",
   "execution_count": 25,
   "metadata": {},
   "outputs": [],
   "source": [
    "def train_and_evaluate_model(model_name, model_path, tokenized_dataset):\n",
    "    \"\"\"\n",
    "    Train and evaluate a single model.\n",
    "    \"\"\"\n",
    "    # Load model\n",
    "    model = AutoModelForSequenceClassification.from_pretrained(model_path, num_labels=2).to(device)\n",
    "\n",
    "    # Define metrics\n",
    "    def compute_metrics(eval_pred):\n",
    "        logits, labels = eval_pred\n",
    "        predictions = logits.argmax(axis=-1)\n",
    "        precision, recall, f1, _ = precision_recall_fscore_support(labels, predictions, average=\"binary\")\n",
    "        acc = accuracy_score(labels, predictions)\n",
    "        return {\"accuracy\": acc, \"f1\": f1, \"precision\": precision, \"recall\": recall}\n",
    "\n",
    "    # Define training arguments\n",
    "    training_args = TrainingArguments(\n",
    "        output_dir=f\"./results_{model_name}\",\n",
    "        evaluation_strategy=\"epoch\",\n",
    "        learning_rate=5e-5,\n",
    "        num_train_epochs=3,\n",
    "        per_device_train_batch_size=8,\n",
    "        gradient_accumulation_steps=2,  # Accumulate gradients to simulate a larger batch\n",
    "        save_steps=1000,\n",
    "        logging_dir=f\"./logs_{model_name}\",\n",
    "        logging_steps=100,\n",
    "        weight_decay=0.01\n",
    "    )\n",
    "\n",
    "    # Initialize Trainer\n",
    "    trainer = Trainer(\n",
    "        model=model,\n",
    "        args=training_args,\n",
    "        train_dataset=tokenized_dataset[\"train\"],\n",
    "        eval_dataset=tokenized_dataset[\"validation\"],\n",
    "        compute_metrics=compute_metrics\n",
    "    )\n",
    "\n",
    "    # Train the model\n",
    "    print(f\"Starting Training for {model_name}...\")\n",
    "    trainer.train()\n",
    "\n",
    "    # Evaluate the model\n",
    "    print(f\"Evaluating the model {model_name}...\")\n",
    "    metrics = trainer.evaluate()\n",
    "    print(f\"Evaluation Metrics for {model_name}:\", metrics)\n",
    "\n",
    "    return model\n"
   ]
  },
  {
   "cell_type": "markdown",
   "metadata": {},
   "source": [
    "\n",
    "## **Step 5: Save the Model**\n",
    "\n",
    "After training the model, it’s important to save it along with the tokenizer. This ensures that the trained model can be reused for testing, inference, or deployment without needing to retrain it.\n",
    "\n",
    "---\n",
    "\n",
    "### **Why Save the Model?**\n",
    "\n",
    "- **Reuse**: The saved model can be loaded anytime for predictions or further fine-tuning.  \n",
    "- **Portability**: You can transfer the model to another environment or share it with others.  \n",
    "- **Deployment**: Saved models are essential for deploying AI solutions in production systems.\n",
    "\n",
    "---\n",
    "\n",
    "### **How to Save the Model?**\n",
    "\n",
    "We will:\n",
    "1. Save the fine-tuned model weights.  \n",
    "2. Save the tokenizer configuration.\n",
    "\n"
   ]
  },
  {
   "cell_type": "code",
   "execution_count": 26,
   "metadata": {},
   "outputs": [],
   "source": [
    "def save_model_and_tokenizer(model, tokenizer, model_name):\n",
    "    \"\"\"\n",
    "    Saves the model and tokenizer to a specified directory.\n",
    "    Args:\n",
    "        model: The trained model to save.\n",
    "        tokenizer: The tokenizer to save.\n",
    "        model_name: The name of the model (used for directory naming).\n",
    "    \"\"\"\n",
    "    save_path = f\"./{model_name}_bias-mitigation-model\"\n",
    "    model.save_pretrained(save_path)\n",
    "    tokenizer.save_pretrained(save_path)\n",
    "    print(f\"Model and tokenizer for {model_name} saved successfully at {save_path}!\")\n"
   ]
  },
  {
   "cell_type": "markdown",
   "metadata": {},
   "source": [
    "## **Step 6: Test the Model**\n",
    "\n",
    "Now that the model is fine-tuned, let’s test it with an example sentence to see how well it performs. This step will load the trained model and tokenizer for inference and run it on a sample input.\n",
    "\n",
    "---\n",
    "\n",
    "### **Why Are We Testing the Model?**\n",
    "\n",
    "After training, it’s important to check if the model can make meaningful predictions. By testing it on a specific sentence, we can verify if the model understands and detects potential bias.\n",
    "\n",
    "---\n",
    "\n",
    "### **What Will We Do?**\n",
    "\n",
    "1. Load the fine-tuned model and tokenizer.\n",
    "2. Prepare a sample input sentence.\n",
    "3. Run inference and analyze the output.\n"
   ]
  },
  {
   "cell_type": "code",
   "execution_count": 27,
   "metadata": {},
   "outputs": [],
   "source": [
    "def test_model(model_name, model_path, tokenizer_path, test_sentences):\n",
    "    \"\"\"\n",
    "    Test a trained model on example sentences.\n",
    "    \"\"\"\n",
    "    # Load the trained model and tokenizer\n",
    "    classifier = pipeline(\"text-classification\", model=model_path, tokenizer=tokenizer_path)\n",
    "\n",
    "    print(f\"Testing the model {model_name}...\")\n",
    "    for sentence in test_sentences:\n",
    "        result = classifier(sentence)\n",
    "        print(f\"Input: {sentence}\")\n",
    "        print(f\"Prediction: {result}\")\n",
    "        print(\"-\" * 50)\n"
   ]
  },
  {
   "cell_type": "markdown",
   "metadata": {},
   "source": [
    "# Execute for Each Model"
   ]
  },
  {
   "cell_type": "code",
   "execution_count": 28,
   "metadata": {},
   "outputs": [
    {
     "name": "stdout",
     "output_type": "stream",
     "text": [
      "Processing model: DistilBERT\n"
     ]
    },
    {
     "data": {
      "application/vnd.jupyter.widget-view+json": {
       "model_id": "9ff7120df065440a9759dd4bbb628d03",
       "version_major": 2,
       "version_minor": 0
      },
      "text/plain": [
       "Map:   0%|          | 0/1152 [00:00<?, ? examples/s]"
      ]
     },
     "metadata": {},
     "output_type": "display_data"
    },
    {
     "name": "stderr",
     "output_type": "stream",
     "text": [
      "Some weights of DistilBertForSequenceClassification were not initialized from the model checkpoint at distilbert-base-uncased and are newly initialized: ['classifier.bias', 'classifier.weight', 'pre_classifier.bias', 'pre_classifier.weight']\n",
      "You should probably TRAIN this model on a down-stream task to be able to use it for predictions and inference.\n"
     ]
    },
    {
     "name": "stdout",
     "output_type": "stream",
     "text": [
      "Tokenization complete!\n"
     ]
    },
    {
     "name": "stderr",
     "output_type": "stream",
     "text": [
      "/Users/Senjuti/Library/Python/3.9/lib/python/site-packages/transformers/training_args.py:1575: FutureWarning: `evaluation_strategy` is deprecated and will be removed in version 4.46 of 🤗 Transformers. Use `eval_strategy` instead\n",
      "  warnings.warn(\n"
     ]
    },
    {
     "name": "stdout",
     "output_type": "stream",
     "text": [
      "Starting Training for DistilBERT...\n"
     ]
    },
    {
     "data": {
      "text/html": [
       "\n",
       "    <div>\n",
       "      \n",
       "      <progress value='3' max='216' style='width:300px; height:20px; vertical-align: middle;'></progress>\n",
       "      [  3/216 00:00 < 01:38, 2.16 it/s, Epoch 0.03/3]\n",
       "    </div>\n",
       "    <table border=\"1\" class=\"dataframe\">\n",
       "  <thead>\n",
       " <tr style=\"text-align: left;\">\n",
       "      <th>Epoch</th>\n",
       "      <th>Training Loss</th>\n",
       "      <th>Validation Loss</th>\n",
       "    </tr>\n",
       "  </thead>\n",
       "  <tbody>\n",
       "  </tbody>\n",
       "</table><p>"
      ],
      "text/plain": [
       "<IPython.core.display.HTML object>"
      ]
     },
     "metadata": {},
     "output_type": "display_data"
    }
   ],
   "source": [
    "# Test sentences\n",
    "test_sentences = [\n",
    "    \"The nurse said the doctor would see the patient soon.\",\n",
    "    \"The CEO welcomed the new male engineer.\",\n",
    "    \"She is a great leader and makes tough decisions.\",\n",
    "    \"The teacher said that he would grade the exams by tomorrow.\",\n",
    "    \"The firefighter saved the child from the burning building.\",\n",
    "    \"She is a nurse, and he is a doctor.\",\n",
    "    \"The programmer quickly fixed the critical bug.\"\n",
    "]\n",
    "\n",
    "# Loop through models\n",
    "for model_name, model_path in model_names.items():\n",
    "    print(f\"Processing model: {model_name}\")\n",
    "    \n",
    "    # Tokenize the dataset\n",
    "    tokenized_dataset, tokenizer = tokenize_dataset(dataset, model_path)\n",
    "    \n",
    "    # Train and evaluate\n",
    "    model = train_and_evaluate_model(model_name, model_path, tokenized_dataset)\n",
    "\n",
    "    # Save the model and tokenizer\n",
    "    model.save_pretrained(f\"./{model_name}_bias-mitigation-model\")\n",
    "    tokenizer.save_pretrained(f\"./{model_name}_bias-mitigation-model\")\n",
    "    print(f\"Model and tokenizer for {model_name} saved successfully!\")\n",
    "\n",
    "    # Test the model\n",
    "    test_model(model_name, f\"./{model_name}_bias-mitigation-model\", f\"./{model_name}_bias-mitigation-model\", test_sentences)\n",
    "\n",
    "    print(f\"Completed processing for {model_name}.\\n\")\n"
   ]
  },
  {
   "cell_type": "markdown",
   "metadata": {},
   "source": [
    "\n",
    "\n",
    "## **Output Explanation**\n",
    "\n",
    "When you test the fine-tuned model, it will generate an output for each input sentence. The output provides two key pieces of information:\n",
    "\n",
    "### **1. `label`**\n",
    "- This field indicates whether bias was detected in the input sentence.\n",
    "- Common values:\n",
    "  - **`LABEL_0`**: No bias detected.\n",
    "  - **`LABEL_1`**: Bias detected.\n",
    "- These labels correspond to the two classes the model was trained to predict. You can customize these labels during fine-tuning (e.g., replacing `LABEL_0` with \"No Bias\" and `LABEL_1` with \"Bias Detected\").\n",
    "\n",
    "---\n",
    "\n",
    "### **2. `score`**\n",
    "- This field represents the model's confidence in its prediction.\n",
    "- The value is a probability ranging between **0** and **1**, where:\n",
    "  - **Close to 1**: The model is very confident in its prediction.\n",
    "  - **Close to 0**: The model is uncertain about its prediction.\n",
    "- Example:\n",
    "  - If the `score` is `0.85` for `LABEL_1`, the model is 85% confident that bias is present in the sentence.\n",
    "\n",
    "---\n",
    "\n",
    "### **Sample Output**\n",
    "```json\n",
    "[\n",
    "    {\n",
    "        \"label\": \"LABEL_1\",\n",
    "        \"score\": 0.85\n",
    "    }\n",
    "]\n",
    "```\n",
    "\n",
    "#### **Interpretation**:\n",
    "- **`label`**: `\"LABEL_1\"` means the model detected bias in the input sentence.\n",
    "- **`score`**: `0.85` means the model is 85% confident about this prediction.\n",
    "\n",
    "\n",
    "\n"
   ]
  }
 ],
 "metadata": {
  "kernelspec": {
   "display_name": "Python 3",
   "language": "python",
   "name": "python3"
  },
  "language_info": {
   "codemirror_mode": {
    "name": "ipython",
    "version": 3
   },
   "file_extension": ".py",
   "mimetype": "text/x-python",
   "name": "python",
   "nbconvert_exporter": "python",
   "pygments_lexer": "ipython3",
   "version": "3.9.6"
  }
 },
 "nbformat": 4,
 "nbformat_minor": 2
}
